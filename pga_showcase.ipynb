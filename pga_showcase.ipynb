{
 "cells": [
  {
   "cell_type": "code",
   "execution_count": 24,
   "metadata": {},
   "outputs": [],
   "source": [
    "from pga import rotor, motor, Blades, e, r90_0_0\n",
    "from math import pi"
   ]
  },
  {
   "cell_type": "markdown",
   "metadata": {},
   "source": [
    "Construct multivectors from Blade members by multiplying a number with a Blade member"
   ]
  },
  {
   "cell_type": "code",
   "execution_count": 25,
   "metadata": {},
   "outputs": [
    {
     "data": {
      "text/plain": [
       "1\t0\n",
       "e₀\t0\n",
       "e₁\t0\n",
       "e₂\t0\n",
       "e₂₀\t0\n",
       "e₀₁\t0\n",
       "e₁₂\t0\n",
       "I\t0"
      ]
     },
     "execution_count": 25,
     "metadata": {},
     "output_type": "execute_result"
    }
   ],
   "source": [
    "mv = 0*Blades.SCALAR\n",
    "mv"
   ]
  },
  {
   "cell_type": "code",
   "execution_count": 26,
   "metadata": {},
   "outputs": [
    {
     "data": {
      "text/plain": [
       "1\t1\n",
       "e₀\t2\n",
       "e₁\t3\n",
       "e₂\t4\n",
       "e₂₀\t5\n",
       "e₀₁\t6\n",
       "e₁₂\t7\n",
       "I\t8"
      ]
     },
     "execution_count": 26,
     "metadata": {},
     "output_type": "execute_result"
    }
   ],
   "source": [
    "for c,b in enumerate(Blades):\n",
    "    mv += (c+1)*b\n",
    "mv"
   ]
  },
  {
   "cell_type": "markdown",
   "metadata": {},
   "source": [
    "points are represented by Bivectors - something of the form:\n",
    "    x*Blades.e20 + y*Blades.e01 + c*Blades.e12"
   ]
  },
  {
   "cell_type": "code",
   "execution_count": 27,
   "metadata": {},
   "outputs": [
    {
     "data": {
      "text/plain": [
       "1\t0\n",
       "e₀\t0\n",
       "e₁\t0\n",
       "e₂\t0\n",
       "e₂₀\t9\n",
       "e₀₁\t5\n",
       "e₁₂\t2\n",
       "I\t0"
      ]
     },
     "execution_count": 27,
     "metadata": {},
     "output_type": "execute_result"
    }
   ],
   "source": [
    "x = 9\n",
    "y = 5\n",
    "c = 2\n",
    "p = x*Blades.e20 + y*Blades.e01 + c*Blades.e12\n",
    "p"
   ]
  },
  {
   "cell_type": "markdown",
   "metadata": {},
   "source": [
    "the projection of a point on a euclidean space is found by multiplying the\n",
    "coefficients by factor of 1/c"
   ]
  },
  {
   "cell_type": "code",
   "execution_count": 28,
   "metadata": {},
   "outputs": [
    {
     "data": {
      "text/plain": [
       "1\t0.0\n",
       "e₀\t0.0\n",
       "e₁\t0.0\n",
       "e₂\t0.0\n",
       "e₂₀\t4.5\n",
       "e₀₁\t2.5\n",
       "e₁₂\t1.0\n",
       "I\t0.0"
      ]
     },
     "execution_count": 28,
     "metadata": {},
     "output_type": "execute_result"
    }
   ],
   "source": [
    "oneOverC = 1.0 / p[Blades.e12] * Blades.SCALAR\n",
    "ep = oneOverC*p\n",
    "ep"
   ]
  },
  {
   "cell_type": "markdown",
   "metadata": {},
   "source": [
    "or you can use the method"
   ]
  },
  {
   "cell_type": "code",
   "execution_count": 29,
   "metadata": {},
   "outputs": [
    {
     "data": {
      "text/plain": [
       "True"
      ]
     },
     "execution_count": 29,
     "metadata": {},
     "output_type": "execute_result"
    }
   ],
   "source": [
    "p = p.getEuclidean()\n",
    "p == ep"
   ]
  },
  {
   "cell_type": "markdown",
   "metadata": {},
   "source": [
    "Define a point in terms of another point being \"moved\" with a rotor or motor\n",
    "\n",
    "Rotors will rotate an object around a point and are defined as an\n",
    "exponentiation of a bivector constructed by multiplying half the rotation angle 'theta' by the pivot point 'P':\n",
    "    e**(theta/2.0*P)\n"
   ]
  },
  {
   "cell_type": "code",
   "execution_count": 30,
   "metadata": {},
   "outputs": [
    {
     "data": {
      "text/plain": [
       "1\t0.7071067811865476\n",
       "e₀\t0.0\n",
       "e₁\t0.0\n",
       "e₂\t0.0\n",
       "e₂₀\t0.0\n",
       "e₀₁\t0.0\n",
       "e₁₂\t0.7071067811865476\n",
       "I\t0.0"
      ]
     },
     "execution_count": 30,
     "metadata": {},
     "output_type": "execute_result"
    }
   ],
   "source": [
    "theta = pi/2.0\n",
    "px,py = 0.0,0.0\n",
    "pp = px*Blades.e20 + py*Blades.e01 + 1.0*Blades.e12\n",
    "rot = e**(theta/2.0*Blades.SCALAR*pp)\n",
    "rot"
   ]
  },
  {
   "cell_type": "markdown",
   "metadata": {},
   "source": [
    "the operation of rotating is done with a sandwich product. The sandwich product\n",
    "has 3 multiplied terms: on the left is the rotor, in the middle is the object\n",
    "being rotated, and on the right is the reverse of the rotor which is defined as\n",
    "the same multivector but with the grade 2 and 3 blades multiplied by a factor\n",
    "of -1, there is a method for this."
   ]
  },
  {
   "cell_type": "code",
   "execution_count": 31,
   "metadata": {},
   "outputs": [
    {
     "data": {
      "text/plain": [
       "1\t0.7071067811865476\n",
       "e₀\t0.0\n",
       "e₁\t0.0\n",
       "e₂\t0.0\n",
       "e₂₀\t0.0\n",
       "e₀₁\t0.0\n",
       "e₁₂\t-0.7071067811865476\n",
       "I\t0.0"
      ]
     },
     "execution_count": 31,
     "metadata": {},
     "output_type": "execute_result"
    }
   ],
   "source": [
    "rev = rot.reverseMV()\n",
    "rev"
   ]
  },
  {
   "cell_type": "markdown",
   "metadata": {},
   "source": [
    "So, if we take our euclidean point at (4.5, 2.5) and rotate pi/2 radians (CW) with our sandwich product, we should get (2.5, -4.5)"
   ]
  },
  {
   "cell_type": "code",
   "execution_count": 32,
   "metadata": {},
   "outputs": [
    {
     "data": {
      "text/plain": [
       "1\t0.0\n",
       "e₀\t0.0\n",
       "e₁\t0.0\n",
       "e₂\t0.0\n",
       "e₂₀\t2.500000000000001\n",
       "e₀₁\t-4.500000000000001\n",
       "e₁₂\t1.0000000000000002\n",
       "I\t0.0"
      ]
     },
     "execution_count": 32,
     "metadata": {},
     "output_type": "execute_result"
    }
   ],
   "source": [
    "rot*p*rev"
   ]
  },
  {
   "cell_type": "markdown",
   "metadata": {},
   "source": [
    "Which we do! Here is a more consise way of doing this:\n",
    "the rotor method returns the unexponentiated bivector.\n",
    "the mote method takes this and applies it."
   ]
  },
  {
   "cell_type": "code",
   "execution_count": 33,
   "metadata": {},
   "outputs": [
    {
     "data": {
      "text/plain": [
       "1\t0.0\n",
       "e₀\t0.0\n",
       "e₁\t0.0\n",
       "e₂\t0.0\n",
       "e₂₀\t2.500000000000001\n",
       "e₀₁\t-4.500000000000001\n",
       "e₁₂\t1.0000000000000002\n",
       "I\t0.0"
      ]
     },
     "execution_count": 33,
     "metadata": {},
     "output_type": "execute_result"
    }
   ],
   "source": [
    "p.mote(rotor(theta, px, py))"
   ]
  },
  {
   "cell_type": "markdown",
   "metadata": {},
   "source": [
    "the rotor returned by rotor(pi/2, 0, 0) is special and has a consise name"
   ]
  },
  {
   "cell_type": "code",
   "execution_count": 35,
   "metadata": {},
   "outputs": [
    {
     "data": {
      "text/plain": [
       "1\t0.0\n",
       "e₀\t0.0\n",
       "e₁\t0.0\n",
       "e₂\t0.0\n",
       "e₂₀\t0.0\n",
       "e₀₁\t0.0\n",
       "e₁₂\t0.7853981633974483\n",
       "I\t0.0"
      ]
     },
     "execution_count": 35,
     "metadata": {},
     "output_type": "execute_result"
    }
   ],
   "source": [
    "r90_0_0"
   ]
  },
  {
   "cell_type": "markdown",
   "metadata": {},
   "source": [
    "the operation of translating is also done with a sandwich product. The sandwich\n",
    "product has 3 multiplied terms: on the left is the motor, in the middle is the\n",
    "object being translated, and on the right is the reverse of the motor.\n",
    "motors are defined in terms of the CW rotation of the vector representing the\n",
    "translation by pi/2 radians."
   ]
  },
  {
   "cell_type": "code",
   "execution_count": 37,
   "metadata": {},
   "outputs": [
    {
     "data": {
      "text/plain": [
       "1\t0.0\n",
       "e₀\t0.0\n",
       "e₁\t0.0\n",
       "e₂\t0.0\n",
       "e₂₀\t6.0\n",
       "e₀₁\t3.0\n",
       "e₁₂\t1.0\n",
       "I\t0.0"
      ]
     },
     "execution_count": 37,
     "metadata": {},
     "output_type": "execute_result"
    }
   ],
   "source": [
    "dx,dy = 1.5,0.5\n",
    "direction = dx*Blades.e20 + dy*Blades.e01\n",
    "mot = direction.mote(r90_0_0)\n",
    "p.mote(mot)"
   ]
  },
  {
   "cell_type": "markdown",
   "metadata": {},
   "source": [
    "here's a more consise wording"
   ]
  },
  {
   "cell_type": "code",
   "execution_count": 38,
   "metadata": {},
   "outputs": [
    {
     "data": {
      "text/plain": [
       "1\t0.0\n",
       "e₀\t0.0\n",
       "e₁\t0.0\n",
       "e₂\t0.0\n",
       "e₂₀\t6.0\n",
       "e₀₁\t3.0\n",
       "e₁₂\t1.0\n",
       "I\t0.0"
      ]
     },
     "execution_count": 38,
     "metadata": {},
     "output_type": "execute_result"
    }
   ],
   "source": [
    "p.mote(motor(dx,dy))"
   ]
  }
 ],
 "metadata": {
  "interpreter": {
   "hash": "af5d13593e449d3c19bac7a08fc11d457983500566f3c5df655e5082050a9ccd"
  },
  "kernelspec": {
   "display_name": "Python 3.10.0 64-bit ('pgaVenv': venv)",
   "language": "python",
   "name": "python3"
  },
  "language_info": {
   "codemirror_mode": {
    "name": "ipython",
    "version": 3
   },
   "file_extension": ".py",
   "mimetype": "text/x-python",
   "name": "python",
   "nbconvert_exporter": "python",
   "pygments_lexer": "ipython3",
   "version": "3.10.0"
  },
  "orig_nbformat": 4
 },
 "nbformat": 4,
 "nbformat_minor": 2
}
